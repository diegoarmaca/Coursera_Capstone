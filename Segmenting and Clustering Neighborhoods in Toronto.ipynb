{
    "nbformat_minor": 1, 
    "cells": [
        {
            "execution_count": 74, 
            "cell_type": "code", 
            "metadata": {}, 
            "outputs": [
                {
                    "execution_count": 74, 
                    "metadata": {}, 
                    "data": {
                        "text/html": "<div>\n<style scoped>\n    .dataframe tbody tr th:only-of-type {\n        vertical-align: middle;\n    }\n\n    .dataframe tbody tr th {\n        vertical-align: top;\n    }\n\n    .dataframe thead th {\n        text-align: right;\n    }\n</style>\n<table border=\"1\" class=\"dataframe\">\n  <thead>\n    <tr style=\"text-align: right;\">\n      <th></th>\n      <th>PostalCode</th>\n      <th>Borough</th>\n      <th>Neighborhood</th>\n      <th>second</th>\n    </tr>\n  </thead>\n  <tbody>\n    <tr>\n      <th>0</th>\n      <td>M1B</td>\n      <td>Scarborough</td>\n      <td>Northwest</td>\n      <td></td>\n    </tr>\n    <tr>\n      <th>1</th>\n      <td>M1C</td>\n      <td>Scarborough</td>\n      <td>Highland Creek, Rouge Hill, Port Union,</td>\n      <td></td>\n    </tr>\n    <tr>\n      <th>2</th>\n      <td>M1E</td>\n      <td>Scarborough</td>\n      <td>Guildwood, Morningside, West Hill,</td>\n      <td></td>\n    </tr>\n    <tr>\n      <th>3</th>\n      <td>M1G</td>\n      <td>Scarborough</td>\n      <td>Woburn,</td>\n      <td></td>\n    </tr>\n    <tr>\n      <th>4</th>\n      <td>M1H</td>\n      <td>Scarborough</td>\n      <td>Cedarbrae,</td>\n      <td></td>\n    </tr>\n  </tbody>\n</table>\n</div>", 
                        "text/plain": "  PostalCode      Borough                              Neighborhood second\n0        M1B  Scarborough                                 Northwest       \n1        M1C  Scarborough  Highland Creek, Rouge Hill, Port Union,        \n2        M1E  Scarborough       Guildwood, Morningside, West Hill,        \n3        M1G  Scarborough                                  Woburn,        \n4        M1H  Scarborough                               Cedarbrae,        "
                    }, 
                    "output_type": "execute_result"
                }
            ], 
            "source": "#Importing libraries\nimport numpy as np\nimport pandas as pd\nfrom bs4 import BeautifulSoup\nimport requests\n\n#Importing webpage using BeautifulSoup\nsource = requests.get('https://en.wikipedia.org/wiki/List_of_postal_codes_of_Canada:_M').text  \nsoup = BeautifulSoup(source, 'lxml')\nsoup\n\n#Finding the table\ntable1 = soup.find('table', {'class':'wikitable sortable'})\n\n#Extracting each row\ntable_rows= table1.find_all('tr')\ntable_rows\n\n#Create an empty list\nlist_postal_codes= []  # \"pd.DataFrame(columns=['PostalCode', 'Borough','Neighborhood'])\n\n#Reading attributes of each row \nfor tr in table_rows:\n    td = tr.find_all('td')\n#Controlling empty rows\n    if len(td) == 0:\n        pass\n    else:\n#Extracting text of each attribute and processing cells without \"Not assigned\" Borough\n        row= [i.text for i in td]\n        if row[1] == 'Not assigned':\n            pass\n        \n        else:\n            \n#Changing \"Not assigned\" in Neighborhood for the same value as Borough\n            if 'Not assigned' in row[2]:\n                row[2] = row[1]\n\n#Replacing '\\n' in Neighborhood for ''\n            if '\\n' in row[2]:\n                row[2]= row[2].rstrip() #Remove '\\n'\n                row[2]= row[2]+', ' #Adding ', ' before applying groupby\n\n#Adding the row to the list 'list_postal_codes'\n            list_postal_codes.append(row)\n\n\n#Creating Dataframe\nPostalCodes = pd.DataFrame(data=list_postal_codes, columns=['PostalCode', 'Borough','Neighborhood'])\nPostalCodes\n\n#Grouping by PostalCode\ndf = PostalCodes.groupby(['PostalCode', 'Borough']).sum()\ndf= df.reset_index()\ndf['second'] = \"\"\n#Cleaning data. Removing ', ' from the last two characters in Neighborhood\nstrlen = 0\nfor n in df['Neighborhood']:\n    strlen= len(n)\n    n = n[0:strlen - 2]\n    df['Neighborhood'][0] = n\n    #print(newitem)\n    \ndf.head()"
        }, 
        {
            "execution_count": 44, 
            "cell_type": "code", 
            "metadata": {}, 
            "outputs": [
                {
                    "execution_count": 44, 
                    "metadata": {}, 
                    "data": {
                        "text/plain": "(103, 3)"
                    }, 
                    "output_type": "execute_result"
                }
            ], 
            "source": "#Dataframe shape\ndf.shape"
        }, 
        {
            "execution_count": null, 
            "cell_type": "code", 
            "metadata": {}, 
            "outputs": [], 
            "source": ""
        }
    ], 
    "metadata": {
        "kernelspec": {
            "display_name": "Python 3.5", 
            "name": "python3", 
            "language": "python"
        }, 
        "language_info": {
            "mimetype": "text/x-python", 
            "nbconvert_exporter": "python", 
            "version": "3.5.5", 
            "name": "python", 
            "file_extension": ".py", 
            "pygments_lexer": "ipython3", 
            "codemirror_mode": {
                "version": 3, 
                "name": "ipython"
            }
        }
    }, 
    "nbformat": 4
}