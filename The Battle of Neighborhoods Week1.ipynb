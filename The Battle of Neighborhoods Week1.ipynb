{
    "nbformat_minor": 1, 
    "cells": [
        {
            "source": "# The Battle of Neighborhoods", 
            "cell_type": "markdown", 
            "metadata": {
                "collapsed": true
            }
        }, 
        {
            "source": "## Introduction\n\nThe University of Southern California with its project named The Neighborhood Data for Social Change (NDSC) platform, provides different resources they said it is head to civic actors who want to learn about their neighborhood. The platform offers different areas of study such as demography, education, environment, health, among others. Taking advantage of all these data sets, especially of the demographic dataset, which provides information about the population distribution by age distribution, households, race and ethnicity, age distribution among others, it would be nice to understand the population distribution in Los Angeles by race and ethnicity to analyse where the different races are located and how the neighborhoods are clustered for the largest\tgroups of people in Los Angeles.\nTo do that, the idea is to find the two largest groups in Los Angeles by using the NDSC (White, Black, Hispanic, Asian...) classification, clustering them by utilizing the Foursquare API, and comparing them to understand similarities and differences among races.\n\nThe importance of this analysis is that persons who want to invest or live in one of those neighborhoods can understand the influence of races in their neighborhoods, and they can make decisions based on this analysis.\n", 
            "cell_type": "markdown", 
            "metadata": {}
        }, 
        {
            "source": "## Data Sources\n\n\n1. <a href=\"#item1\">Understanding the NDSC dataset Race & Ethnicity</a>\n\n2. <a href=\"#item2\">Understanding the Foursquare API</a>\n\n", 
            "cell_type": "markdown", 
            "metadata": {}
        }, 
        {
            "source": "## Importing libraries", 
            "cell_type": "markdown", 
            "metadata": {}
        }, 
        {
            "execution_count": 1, 
            "cell_type": "code", 
            "metadata": {}, 
            "outputs": [
                {
                    "output_type": "stream", 
                    "name": "stdout", 
                    "text": "Libraries imported.\n"
                }
            ], 
            "source": "import numpy as np # library to handle data in a vectorized manner\n\nimport pandas as pd # library for data analsysis\npd.set_option('display.max_columns', None)\npd.set_option('display.max_rows', None)\n\nimport json # library to handle JSON files\n\n#!conda install -c conda-forge geopy --yes # uncomment this line if you haven't completed the Foursquare API lab\nfrom geopy.geocoders import Nominatim # convert an address into latitude and longitude values\n\nimport requests # library to handle requests\nfrom pandas.io.json import json_normalize # tranform JSON file into a pandas dataframe\n\n# Matplotlib and associated plotting modules\nimport matplotlib.cm as cm\nimport matplotlib.colors as colors\n\n# import k-means from clustering stage\nfrom sklearn.cluster import KMeans\n\n#!conda install -c conda-forge folium=0.5.0 --yes # uncomment this line if you haven't completed the Foursquare API lab\nimport folium # map rendering library\n\nprint('Libraries imported.')"
        }, 
        {
            "source": "## 1. Understanding the NDSC dataset = Race & Ethnicity", 
            "cell_type": "markdown", 
            "metadata": {}
        }, 
        {
            "source": "Race & Ethnicity has 7 years records from 2010  to 2016, 8 race and ethnicity classification, and 262 neighborhoods which provides 2344 location points with the latitude and logitude coordinates of each location point. \n\nHere is the link to the dataset: https://usc.data.socrata.com/api/views/jxw5-xxv5/rows.csv", 
            "cell_type": "markdown", 
            "metadata": {}
        }, 
        {
            "source": "For this analysis, we will use only records from 2016, so let\u00b4s prepare the data.", 
            "cell_type": "markdown", 
            "metadata": {}
        }, 
        {
            "execution_count": 2, 
            "cell_type": "code", 
            "metadata": {}, 
            "outputs": [
                {
                    "output_type": "stream", 
                    "name": "stdout", 
                    "text": "--2019-06-29 18:40:15--  https://usc.data.socrata.com/api/views/jxw5-xxv5/rows.csv\nResolving usc.data.socrata.com (usc.data.socrata.com)... 52.206.140.199, 52.206.140.205, 52.206.68.26\nConnecting to usc.data.socrata.com (usc.data.socrata.com)|52.206.140.199|:443... connected.\nHTTP request sent, awaiting response... 200 OK\nLength: unspecified [text/csv]\nSaving to: \u2018urlRaceEthnicity.csv\u2019\n\n    [                  <=>                  ] 33,463,156  8.60MB/s   in 3.7s   \n\n2019-06-29 18:40:24 (8.58 MB/s) - \u2018urlRaceEthnicity.csv\u2019 saved [33463156]\n\n"
                }, 
                {
                    "execution_count": 2, 
                    "metadata": {}, 
                    "data": {
                        "text/html": "<div>\n<style scoped>\n    .dataframe tbody tr th:only-of-type {\n        vertical-align: middle;\n    }\n\n    .dataframe tbody tr th {\n        vertical-align: top;\n    }\n\n    .dataframe thead th {\n        text-align: right;\n    }\n</style>\n<table border=\"1\" class=\"dataframe\">\n  <thead>\n    <tr style=\"text-align: right;\">\n      <th></th>\n      <th>Policy Area</th>\n      <th>Dataset</th>\n      <th>Year</th>\n      <th>Variable</th>\n      <th>Count</th>\n      <th>Percent</th>\n      <th>Tract</th>\n      <th>Tract Number</th>\n      <th>Neighborhood</th>\n      <th>GEOID</th>\n      <th>Location</th>\n      <th>Row ID</th>\n      <th>Date</th>\n    </tr>\n  </thead>\n  <tbody>\n    <tr>\n      <th>0</th>\n      <td>Demography</td>\n      <td>Race &amp; Ethnicity</td>\n      <td>2010</td>\n      <td>American Indian/Native Population</td>\n      <td>0.0</td>\n      <td>0.000000</td>\n      <td>Census Tract 1011.22, Los Angeles County, Cali...</td>\n      <td>101122</td>\n      <td>Tujunga</td>\n      <td>1400000US06037101122</td>\n      <td>(34.267357, -118.29024)</td>\n      <td>American_Indian/Native_Population_2010_1400000...</td>\n      <td>01/01/2010</td>\n    </tr>\n    <tr>\n      <th>1</th>\n      <td>Demography</td>\n      <td>Race &amp; Ethnicity</td>\n      <td>2010</td>\n      <td>American Indian/Native Population</td>\n      <td>31.0</td>\n      <td>0.830431</td>\n      <td>Census Tract 1014, Los Angeles County, California</td>\n      <td>101400</td>\n      <td>Tujunga</td>\n      <td>1400000US06037101400</td>\n      <td>(34.244255, -118.296428)</td>\n      <td>American_Indian/Native_Population_2010_1400000...</td>\n      <td>01/01/2010</td>\n    </tr>\n    <tr>\n      <th>2</th>\n      <td>Demography</td>\n      <td>Race &amp; Ethnicity</td>\n      <td>2010</td>\n      <td>American Indian/Native Population</td>\n      <td>17.0</td>\n      <td>0.923411</td>\n      <td>Census Tract 1021.03, Los Angeles County, Cali...</td>\n      <td>102103</td>\n      <td>Shadow Hills</td>\n      <td>1400000US06037102103</td>\n      <td>(34.224155, -118.354339)</td>\n      <td>American_Indian/Native_Population_2010_1400000...</td>\n      <td>01/01/2010</td>\n    </tr>\n    <tr>\n      <th>3</th>\n      <td>Demography</td>\n      <td>Race &amp; Ethnicity</td>\n      <td>2010</td>\n      <td>American Indian/Native Population</td>\n      <td>0.0</td>\n      <td>0.000000</td>\n      <td>Census Tract 1021.04, Los Angeles County, Cali...</td>\n      <td>102104</td>\n      <td>Shadow Hills</td>\n      <td>1400000US06037102104</td>\n      <td>(34.216189, -118.3456235)</td>\n      <td>American_Indian/Native_Population_2010_1400000...</td>\n      <td>01/01/2010</td>\n    </tr>\n    <tr>\n      <th>4</th>\n      <td>Demography</td>\n      <td>Race &amp; Ethnicity</td>\n      <td>2010</td>\n      <td>American Indian/Native Population</td>\n      <td>0.0</td>\n      <td>0.000000</td>\n      <td>Census Tract 1021.05, Los Angeles County, Cali...</td>\n      <td>102105</td>\n      <td>Sun Valley</td>\n      <td>1400000US06037102105</td>\n      <td>(34.210852, -118.3480495)</td>\n      <td>American_Indian/Native_Population_2010_1400000...</td>\n      <td>01/01/2010</td>\n    </tr>\n  </tbody>\n</table>\n</div>", 
                        "text/plain": "  Policy Area           Dataset  Year                           Variable  \\\n0  Demography  Race & Ethnicity  2010  American Indian/Native Population   \n1  Demography  Race & Ethnicity  2010  American Indian/Native Population   \n2  Demography  Race & Ethnicity  2010  American Indian/Native Population   \n3  Demography  Race & Ethnicity  2010  American Indian/Native Population   \n4  Demography  Race & Ethnicity  2010  American Indian/Native Population   \n\n   Count   Percent                                              Tract  \\\n0    0.0  0.000000  Census Tract 1011.22, Los Angeles County, Cali...   \n1   31.0  0.830431  Census Tract 1014, Los Angeles County, California   \n2   17.0  0.923411  Census Tract 1021.03, Los Angeles County, Cali...   \n3    0.0  0.000000  Census Tract 1021.04, Los Angeles County, Cali...   \n4    0.0  0.000000  Census Tract 1021.05, Los Angeles County, Cali...   \n\n   Tract Number  Neighborhood                 GEOID  \\\n0        101122       Tujunga  1400000US06037101122   \n1        101400       Tujunga  1400000US06037101400   \n2        102103  Shadow Hills  1400000US06037102103   \n3        102104  Shadow Hills  1400000US06037102104   \n4        102105    Sun Valley  1400000US06037102105   \n\n                    Location  \\\n0    (34.267357, -118.29024)   \n1   (34.244255, -118.296428)   \n2   (34.224155, -118.354339)   \n3  (34.216189, -118.3456235)   \n4  (34.210852, -118.3480495)   \n\n                                              Row ID        Date  \n0  American_Indian/Native_Population_2010_1400000...  01/01/2010  \n1  American_Indian/Native_Population_2010_1400000...  01/01/2010  \n2  American_Indian/Native_Population_2010_1400000...  01/01/2010  \n3  American_Indian/Native_Population_2010_1400000...  01/01/2010  \n4  American_Indian/Native_Population_2010_1400000...  01/01/2010  "
                    }, 
                    "output_type": "execute_result"
                }
            ], 
            "source": "!wget -O urlRaceEthnicity.csv https://usc.data.socrata.com/api/views/jxw5-xxv5/rows.csv\ndataframe= pd.read_csv('urlRaceEthnicity.csv')\ndataframe.head()"
        }, 
        {
            "source": "Filter the year 2016", 
            "cell_type": "markdown", 
            "metadata": {}
        }, 
        {
            "execution_count": 3, 
            "cell_type": "code", 
            "metadata": {}, 
            "outputs": [
                {
                    "execution_count": 3, 
                    "metadata": {}, 
                    "data": {
                        "text/html": "<div>\n<style scoped>\n    .dataframe tbody tr th:only-of-type {\n        vertical-align: middle;\n    }\n\n    .dataframe tbody tr th {\n        vertical-align: top;\n    }\n\n    .dataframe thead th {\n        text-align: right;\n    }\n</style>\n<table border=\"1\" class=\"dataframe\">\n  <thead>\n    <tr style=\"text-align: right;\">\n      <th></th>\n      <th>Policy Area</th>\n      <th>Dataset</th>\n      <th>Year</th>\n      <th>Variable</th>\n      <th>Count</th>\n      <th>Percent</th>\n      <th>Tract</th>\n      <th>Tract Number</th>\n      <th>Neighborhood</th>\n      <th>GEOID</th>\n      <th>Location</th>\n      <th>Row ID</th>\n      <th>Date</th>\n    </tr>\n  </thead>\n  <tbody>\n    <tr>\n      <th>138</th>\n      <td>Demography</td>\n      <td>Race &amp; Ethnicity</td>\n      <td>2016</td>\n      <td>Black Population</td>\n      <td>66.0</td>\n      <td>2.089930</td>\n      <td>Census Tract 2715, Los Angeles County, California</td>\n      <td>271500</td>\n      <td>Mar Vista</td>\n      <td>1400000US06037271500</td>\n      <td>(34.01663, -118.4375635)</td>\n      <td>Black_Population_2016_1400000US06037271500</td>\n      <td>01/01/2016</td>\n    </tr>\n    <tr>\n      <th>198</th>\n      <td>Demography</td>\n      <td>Race &amp; Ethnicity</td>\n      <td>2016</td>\n      <td>Black Population</td>\n      <td>19.0</td>\n      <td>0.585697</td>\n      <td>Census Tract 3112, Los Angeles County, California</td>\n      <td>311200</td>\n      <td>Burbank</td>\n      <td>1400000US06037311200</td>\n      <td>(34.1714255, -118.3527755)</td>\n      <td>Black_Population_2016_1400000US06037311200</td>\n      <td>01/01/2016</td>\n    </tr>\n    <tr>\n      <th>317</th>\n      <td>Demography</td>\n      <td>Race &amp; Ethnicity</td>\n      <td>2016</td>\n      <td>Black Population</td>\n      <td>136.0</td>\n      <td>3.448276</td>\n      <td>Census Tract 3113, Los Angeles County, California</td>\n      <td>311300</td>\n      <td>Burbank</td>\n      <td>1400000US06037311300</td>\n      <td>(34.173525, -118.342414)</td>\n      <td>Black_Population_2016_1400000US06037311300</td>\n      <td>01/01/2016</td>\n    </tr>\n    <tr>\n      <th>377</th>\n      <td>Demography</td>\n      <td>Race &amp; Ethnicity</td>\n      <td>2016</td>\n      <td>Black Population</td>\n      <td>51.0</td>\n      <td>2.222222</td>\n      <td>Census Tract 3114, Los Angeles County, California</td>\n      <td>311400</td>\n      <td>Burbank</td>\n      <td>1400000US06037311400</td>\n      <td>(34.162038, -118.34958)</td>\n      <td>Black_Population_2016_1400000US06037311400</td>\n      <td>01/01/2016</td>\n    </tr>\n    <tr>\n      <th>455</th>\n      <td>Demography</td>\n      <td>Race &amp; Ethnicity</td>\n      <td>2016</td>\n      <td>Black Population</td>\n      <td>161.0</td>\n      <td>2.931537</td>\n      <td>Census Tract 3115, Los Angeles County, California</td>\n      <td>311500</td>\n      <td>Burbank</td>\n      <td>1400000US06037311500</td>\n      <td>(34.164754, -118.33837)</td>\n      <td>Black_Population_2016_1400000US06037311500</td>\n      <td>01/01/2016</td>\n    </tr>\n  </tbody>\n</table>\n</div>", 
                        "text/plain": "    Policy Area           Dataset  Year          Variable  Count   Percent  \\\n138  Demography  Race & Ethnicity  2016  Black Population   66.0  2.089930   \n198  Demography  Race & Ethnicity  2016  Black Population   19.0  0.585697   \n317  Demography  Race & Ethnicity  2016  Black Population  136.0  3.448276   \n377  Demography  Race & Ethnicity  2016  Black Population   51.0  2.222222   \n455  Demography  Race & Ethnicity  2016  Black Population  161.0  2.931537   \n\n                                                 Tract  Tract Number  \\\n138  Census Tract 2715, Los Angeles County, California        271500   \n198  Census Tract 3112, Los Angeles County, California        311200   \n317  Census Tract 3113, Los Angeles County, California        311300   \n377  Census Tract 3114, Los Angeles County, California        311400   \n455  Census Tract 3115, Los Angeles County, California        311500   \n\n    Neighborhood                 GEOID                    Location  \\\n138    Mar Vista  1400000US06037271500    (34.01663, -118.4375635)   \n198      Burbank  1400000US06037311200  (34.1714255, -118.3527755)   \n317      Burbank  1400000US06037311300    (34.173525, -118.342414)   \n377      Burbank  1400000US06037311400     (34.162038, -118.34958)   \n455      Burbank  1400000US06037311500     (34.164754, -118.33837)   \n\n                                         Row ID        Date  \n138  Black_Population_2016_1400000US06037271500  01/01/2016  \n198  Black_Population_2016_1400000US06037311200  01/01/2016  \n317  Black_Population_2016_1400000US06037311300  01/01/2016  \n377  Black_Population_2016_1400000US06037311400  01/01/2016  \n455  Black_Population_2016_1400000US06037311500  01/01/2016  "
                    }, 
                    "output_type": "execute_result"
                }
            ], 
            "source": "dataframe2016 = dataframe[dataframe['Year']==2016]\ndataframe2016.head()"
        }, 
        {
            "source": "Split location into latitude and longitude", 
            "cell_type": "markdown", 
            "metadata": {}
        }, 
        {
            "execution_count": 4, 
            "cell_type": "code", 
            "metadata": {}, 
            "outputs": [
                {
                    "output_type": "stream", 
                    "name": "stderr", 
                    "text": "/opt/conda/envs/Python36/lib/python3.6/site-packages/ipykernel/__main__.py:1: SettingWithCopyWarning: \nA value is trying to be set on a copy of a slice from a DataFrame.\nTry using .loc[row_indexer,col_indexer] = value instead\n\nSee the caveats in the documentation: http://pandas.pydata.org/pandas-docs/stable/indexing.html#indexing-view-versus-copy\n  if __name__ == '__main__':\n/opt/conda/envs/Python36/lib/python3.6/site-packages/ipykernel/__main__.py:2: SettingWithCopyWarning: \nA value is trying to be set on a copy of a slice from a DataFrame.\nTry using .loc[row_indexer,col_indexer] = value instead\n\nSee the caveats in the documentation: http://pandas.pydata.org/pandas-docs/stable/indexing.html#indexing-view-versus-copy\n  from ipykernel import kernelapp as app\n/opt/conda/envs/Python36/lib/python3.6/site-packages/ipykernel/__main__.py:3: SettingWithCopyWarning: \nA value is trying to be set on a copy of a slice from a DataFrame.\nTry using .loc[row_indexer,col_indexer] = value instead\n\nSee the caveats in the documentation: http://pandas.pydata.org/pandas-docs/stable/indexing.html#indexing-view-versus-copy\n  app.launch_new_instance()\n/opt/conda/envs/Python36/lib/python3.6/site-packages/ipykernel/__main__.py:4: SettingWithCopyWarning: \nA value is trying to be set on a copy of a slice from a DataFrame.\nTry using .loc[row_indexer,col_indexer] = value instead\n\nSee the caveats in the documentation: http://pandas.pydata.org/pandas-docs/stable/indexing.html#indexing-view-versus-copy\n/opt/conda/envs/Python36/lib/python3.6/site-packages/ipykernel/__main__.py:5: SettingWithCopyWarning: \nA value is trying to be set on a copy of a slice from a DataFrame.\nTry using .loc[row_indexer,col_indexer] = value instead\n\nSee the caveats in the documentation: http://pandas.pydata.org/pandas-docs/stable/indexing.html#indexing-view-versus-copy\n"
                }, 
                {
                    "execution_count": 4, 
                    "metadata": {}, 
                    "data": {
                        "text/html": "<div>\n<style scoped>\n    .dataframe tbody tr th:only-of-type {\n        vertical-align: middle;\n    }\n\n    .dataframe tbody tr th {\n        vertical-align: top;\n    }\n\n    .dataframe thead th {\n        text-align: right;\n    }\n</style>\n<table border=\"1\" class=\"dataframe\">\n  <thead>\n    <tr style=\"text-align: right;\">\n      <th></th>\n      <th>Policy Area</th>\n      <th>Dataset</th>\n      <th>Year</th>\n      <th>Variable</th>\n      <th>Count</th>\n      <th>Percent</th>\n      <th>Tract</th>\n      <th>Tract Number</th>\n      <th>Neighborhood</th>\n      <th>GEOID</th>\n      <th>Location</th>\n      <th>Row ID</th>\n      <th>Date</th>\n      <th>latitude</th>\n      <th>longitude</th>\n    </tr>\n  </thead>\n  <tbody>\n    <tr>\n      <th>138</th>\n      <td>Demography</td>\n      <td>Race &amp; Ethnicity</td>\n      <td>2016</td>\n      <td>Black Population</td>\n      <td>66.0</td>\n      <td>2.089930</td>\n      <td>Census Tract 2715, Los Angeles County, California</td>\n      <td>271500</td>\n      <td>Mar Vista</td>\n      <td>1400000US06037271500</td>\n      <td>(34.01663, -118.4375635)</td>\n      <td>Black_Population_2016_1400000US06037271500</td>\n      <td>01/01/2016</td>\n      <td>34.016630</td>\n      <td>-118.437563</td>\n    </tr>\n    <tr>\n      <th>198</th>\n      <td>Demography</td>\n      <td>Race &amp; Ethnicity</td>\n      <td>2016</td>\n      <td>Black Population</td>\n      <td>19.0</td>\n      <td>0.585697</td>\n      <td>Census Tract 3112, Los Angeles County, California</td>\n      <td>311200</td>\n      <td>Burbank</td>\n      <td>1400000US06037311200</td>\n      <td>(34.1714255, -118.3527755)</td>\n      <td>Black_Population_2016_1400000US06037311200</td>\n      <td>01/01/2016</td>\n      <td>34.171425</td>\n      <td>-118.352775</td>\n    </tr>\n    <tr>\n      <th>317</th>\n      <td>Demography</td>\n      <td>Race &amp; Ethnicity</td>\n      <td>2016</td>\n      <td>Black Population</td>\n      <td>136.0</td>\n      <td>3.448276</td>\n      <td>Census Tract 3113, Los Angeles County, California</td>\n      <td>311300</td>\n      <td>Burbank</td>\n      <td>1400000US06037311300</td>\n      <td>(34.173525, -118.342414)</td>\n      <td>Black_Population_2016_1400000US06037311300</td>\n      <td>01/01/2016</td>\n      <td>34.173525</td>\n      <td>-118.342414</td>\n    </tr>\n    <tr>\n      <th>377</th>\n      <td>Demography</td>\n      <td>Race &amp; Ethnicity</td>\n      <td>2016</td>\n      <td>Black Population</td>\n      <td>51.0</td>\n      <td>2.222222</td>\n      <td>Census Tract 3114, Los Angeles County, California</td>\n      <td>311400</td>\n      <td>Burbank</td>\n      <td>1400000US06037311400</td>\n      <td>(34.162038, -118.34958)</td>\n      <td>Black_Population_2016_1400000US06037311400</td>\n      <td>01/01/2016</td>\n      <td>34.162038</td>\n      <td>-118.349580</td>\n    </tr>\n    <tr>\n      <th>455</th>\n      <td>Demography</td>\n      <td>Race &amp; Ethnicity</td>\n      <td>2016</td>\n      <td>Black Population</td>\n      <td>161.0</td>\n      <td>2.931537</td>\n      <td>Census Tract 3115, Los Angeles County, California</td>\n      <td>311500</td>\n      <td>Burbank</td>\n      <td>1400000US06037311500</td>\n      <td>(34.164754, -118.33837)</td>\n      <td>Black_Population_2016_1400000US06037311500</td>\n      <td>01/01/2016</td>\n      <td>34.164754</td>\n      <td>-118.338370</td>\n    </tr>\n  </tbody>\n</table>\n</div>", 
                        "text/plain": "    Policy Area           Dataset  Year          Variable  Count   Percent  \\\n138  Demography  Race & Ethnicity  2016  Black Population   66.0  2.089930   \n198  Demography  Race & Ethnicity  2016  Black Population   19.0  0.585697   \n317  Demography  Race & Ethnicity  2016  Black Population  136.0  3.448276   \n377  Demography  Race & Ethnicity  2016  Black Population   51.0  2.222222   \n455  Demography  Race & Ethnicity  2016  Black Population  161.0  2.931537   \n\n                                                 Tract  Tract Number  \\\n138  Census Tract 2715, Los Angeles County, California        271500   \n198  Census Tract 3112, Los Angeles County, California        311200   \n317  Census Tract 3113, Los Angeles County, California        311300   \n377  Census Tract 3114, Los Angeles County, California        311400   \n455  Census Tract 3115, Los Angeles County, California        311500   \n\n    Neighborhood                 GEOID                    Location  \\\n138    Mar Vista  1400000US06037271500    (34.01663, -118.4375635)   \n198      Burbank  1400000US06037311200  (34.1714255, -118.3527755)   \n317      Burbank  1400000US06037311300    (34.173525, -118.342414)   \n377      Burbank  1400000US06037311400     (34.162038, -118.34958)   \n455      Burbank  1400000US06037311500     (34.164754, -118.33837)   \n\n                                         Row ID        Date   latitude  \\\n138  Black_Population_2016_1400000US06037271500  01/01/2016  34.016630   \n198  Black_Population_2016_1400000US06037311200  01/01/2016  34.171425   \n317  Black_Population_2016_1400000US06037311300  01/01/2016  34.173525   \n377  Black_Population_2016_1400000US06037311400  01/01/2016  34.162038   \n455  Black_Population_2016_1400000US06037311500  01/01/2016  34.164754   \n\n      longitude  \n138 -118.437563  \n198 -118.352775  \n317 -118.342414  \n377 -118.349580  \n455 -118.338370  "
                    }, 
                    "output_type": "execute_result"
                }
            ], 
            "source": "dataframe2016['latitude'], dataframe2016['longitude'] = dataframe2016['Location'].str.split(',', 1).str\ndataframe2016['latitude'] = dataframe2016['latitude'].str.replace(\"(\",\"\")\ndataframe2016['longitude'] = dataframe2016['longitude'].str.replace(\")\",\"\")\ndataframe2016['latitude'] = pd.to_numeric(dataframe2016['latitude'])\ndataframe2016['longitude'] = pd.to_numeric(dataframe2016['longitude'])\ndataframe2016.head()"
        }, 
        {
            "source": "Drop columns we do not need", 
            "cell_type": "markdown", 
            "metadata": {}
        }, 
        {
            "execution_count": 5, 
            "cell_type": "code", 
            "metadata": {}, 
            "outputs": [
                {
                    "execution_count": 5, 
                    "metadata": {}, 
                    "data": {
                        "text/html": "<div>\n<style scoped>\n    .dataframe tbody tr th:only-of-type {\n        vertical-align: middle;\n    }\n\n    .dataframe tbody tr th {\n        vertical-align: top;\n    }\n\n    .dataframe thead th {\n        text-align: right;\n    }\n</style>\n<table border=\"1\" class=\"dataframe\">\n  <thead>\n    <tr style=\"text-align: right;\">\n      <th></th>\n      <th>Variable</th>\n      <th>Count</th>\n      <th>Neighborhood</th>\n      <th>latitude</th>\n      <th>longitude</th>\n    </tr>\n  </thead>\n  <tbody>\n    <tr>\n      <th>138</th>\n      <td>Black Population</td>\n      <td>66.0</td>\n      <td>Mar Vista</td>\n      <td>34.016630</td>\n      <td>-118.437563</td>\n    </tr>\n    <tr>\n      <th>198</th>\n      <td>Black Population</td>\n      <td>19.0</td>\n      <td>Burbank</td>\n      <td>34.171425</td>\n      <td>-118.352775</td>\n    </tr>\n    <tr>\n      <th>317</th>\n      <td>Black Population</td>\n      <td>136.0</td>\n      <td>Burbank</td>\n      <td>34.173525</td>\n      <td>-118.342414</td>\n    </tr>\n    <tr>\n      <th>377</th>\n      <td>Black Population</td>\n      <td>51.0</td>\n      <td>Burbank</td>\n      <td>34.162038</td>\n      <td>-118.349580</td>\n    </tr>\n    <tr>\n      <th>455</th>\n      <td>Black Population</td>\n      <td>161.0</td>\n      <td>Burbank</td>\n      <td>34.164754</td>\n      <td>-118.338370</td>\n    </tr>\n  </tbody>\n</table>\n</div>", 
                        "text/plain": "             Variable  Count Neighborhood   latitude   longitude\n138  Black Population   66.0    Mar Vista  34.016630 -118.437563\n198  Black Population   19.0      Burbank  34.171425 -118.352775\n317  Black Population  136.0      Burbank  34.173525 -118.342414\n377  Black Population   51.0      Burbank  34.162038 -118.349580\n455  Black Population  161.0      Burbank  34.164754 -118.338370"
                    }, 
                    "output_type": "execute_result"
                }
            ], 
            "source": "dataframe2016 = dataframe2016.drop(columns=['Policy Area','Dataset','Tract','GEOID','Row ID','Date','Percent','Year','Tract Number','Location'])\ndataframe2016.head()"
        }, 
        {
            "source": "Let\u00b4s see the distribution of the population by Race", 
            "cell_type": "markdown", 
            "metadata": {}
        }, 
        {
            "execution_count": 6, 
            "cell_type": "code", 
            "metadata": {}, 
            "outputs": [
                {
                    "execution_count": 6, 
                    "metadata": {}, 
                    "data": {
                        "text/html": "<div>\n<style scoped>\n    .dataframe tbody tr th:only-of-type {\n        vertical-align: middle;\n    }\n\n    .dataframe tbody tr th {\n        vertical-align: top;\n    }\n\n    .dataframe thead th {\n        text-align: right;\n    }\n</style>\n<table border=\"1\" class=\"dataframe\">\n  <thead>\n    <tr style=\"text-align: right;\">\n      <th></th>\n      <th>Variable</th>\n      <th>Count</th>\n    </tr>\n  </thead>\n  <tbody>\n    <tr>\n      <th>3</th>\n      <td>Hispanic Population</td>\n      <td>4861648.0</td>\n    </tr>\n    <tr>\n      <th>7</th>\n      <td>White Population</td>\n      <td>2687787.0</td>\n    </tr>\n    <tr>\n      <th>1</th>\n      <td>Asian Population</td>\n      <td>1413105.0</td>\n    </tr>\n    <tr>\n      <th>2</th>\n      <td>Black Population</td>\n      <td>801182.0</td>\n    </tr>\n    <tr>\n      <th>6</th>\n      <td>Population of Two or More Races</td>\n      <td>220878.0</td>\n    </tr>\n    <tr>\n      <th>5</th>\n      <td>Other Race Population</td>\n      <td>29351.0</td>\n    </tr>\n    <tr>\n      <th>4</th>\n      <td>Native Hawaiian/Other Pacific Islander Population</td>\n      <td>24439.0</td>\n    </tr>\n    <tr>\n      <th>0</th>\n      <td>American Indian/Native Population</td>\n      <td>18765.0</td>\n    </tr>\n  </tbody>\n</table>\n</div>", 
                        "text/plain": "                                            Variable      Count\n3                                Hispanic Population  4861648.0\n7                                   White Population  2687787.0\n1                                   Asian Population  1413105.0\n2                                   Black Population   801182.0\n6                    Population of Two or More Races   220878.0\n5                              Other Race Population    29351.0\n4  Native Hawaiian/Other Pacific Islander Population    24439.0\n0                  American Indian/Native Population    18765.0"
                    }, 
                    "output_type": "execute_result"
                }
            ], 
            "source": "#Creating Dataframe\ndf2016 = pd.DataFrame(data=dataframe2016, columns=['Variable','Count'])\ndf2016 = df2016.groupby(['Variable']).sum()\ndf2016= df2016.reset_index()\ndf2016.sort_values(by=['Count'], ascending=False)"
        }, 
        {
            "source": "As we can see, the Hispanic population and the White population are the two largest population groups, so that we are going to work with these groups.", 
            "cell_type": "markdown", 
            "metadata": {}
        }, 
        {
            "source": "## 2. Understanding the Foursquare API\n\nThe Foursquare API is a source for developers who want to search for a specific type of venue around a given location as well as a specific venue with data such as the full address, working hours, menu among others. Furthermore, it can possible to explore popular spots in a given location and trending venues as well.\n\nHere is the API link is: https://api.foursquare.com/v2/venues/search?client_id=CLIENT_ID&client_secret=CLIENT_SECRET&ll=LATITUDE,LONGITUDE&v=VERSION&query=QUERY&radius=RADIUS&limit=LIMIT\n\nwhere:\n\n<div style=\"margin-top: 20px\">\n\n<font size = 3>\n\n1. <a>CLIENT_ID = your Foursquare ID</a>\n2. <a>CLIENT_SECRET =  your Foursquare Secret</a>\n3. <a>LATITUDE = latitude of the given place</a>\n4. <a>LONGITUDE = longitude of the given place</a>\n5. <a>VERSION = date of the  database version 'yyyymmdd'</a>\n6. <a>QUERY = the value you want to search</a>\n7. <a>RADIUS = number of metter from the given place</a>\n8. <a>LIMIT = number of records in the answer</a>\n\n</font>\n</div>\n\n<div>\n\n</div>\n\nImportant information: With your free Foursquare account you can access:\n\n1. <a>105M places</a>\n2. <a>2 Photos & 2 Tips per Venue</a>\n3. <a>2 Queries per Second (QPS)</a>\n4. <a>1 App per Account</a>\n5. <a>Insight into API Usage</a>\n6. <a>API Call Quota</a>\n7. <a>99,500 Regular Calls + 500 Premium Calls</a>\n", 
            "cell_type": "markdown", 
            "metadata": {}
        }, 
        {
            "source": "Let\u00b4s see how we can call for venues for the first location point from the Race & Ethnicity dataset.", 
            "cell_type": "markdown", 
            "metadata": {}
        }, 
        {
            "source": "Define the credentials an parameters", 
            "cell_type": "markdown", 
            "metadata": {}
        }, 
        {
            "execution_count": 8, 
            "cell_type": "code", 
            "metadata": {}, 
            "outputs": [], 
            "source": "# The code was removed by Watson Studio for sharing."
        }, 
        {
            "source": "### Let\u00b4s see the venues around five  the location points given by the NDSC dataset", 
            "cell_type": "markdown", 
            "metadata": {}
        }, 
        {
            "source": "Define the corresponding URL", 
            "cell_type": "markdown", 
            "metadata": {}
        }, 
        {
            "execution_count": 10, 
            "cell_type": "code", 
            "metadata": {}, 
            "outputs": [], 
            "source": "url = 'https://api.foursquare.com/v2/venues/search?client_id={}&client_secret={}&ll={},{}&v={}&radius={}&limit={}'.format(CLIENT_ID, CLIENT_SECRET, latitude, longitude, VERSION, radius, LIMIT)"
        }, 
        {
            "source": "Creating a function to look for nearby venues", 
            "cell_type": "markdown", 
            "metadata": {}
        }, 
        {
            "execution_count": 19, 
            "cell_type": "code", 
            "metadata": {}, 
            "outputs": [], 
            "source": "def getNearbyVenues(names, latitudes, longitudes, radius=500):\n    \n    venues_list=[]\n    for name, lat, lng in zip(names, latitudes, longitudes):\n        print(name)\n            \n        # create the API request URL\n        url = 'https://api.foursquare.com/v2/venues/explore?&client_id={}&client_secret={}&v={}&ll={},{}&radius={}&limit={}'.format(\n            CLIENT_ID, \n            CLIENT_SECRET, \n            VERSION, \n            lat, \n            lng, \n            radius, \n            LIMIT)\n            \n        # make the GET request\n        results = requests.get(url).json()[\"response\"]['groups'][0]['items']\n        \n        # return only relevant information for each nearby venue\n        venues_list.append([(\n            name, \n            lat, \n            lng, \n            v['venue']['name'], \n            v['venue']['location']['lat'], \n            v['venue']['location']['lng'],  \n            v['venue']['categories'][0]['name']) for v in results])\n\n    nearby_venues = pd.DataFrame([item for venue_list in venues_list for item in venue_list])\n    nearby_venues.columns = ['Neighborhood', \n                  'Neighborhood Latitude', \n                  'Neighborhood Longitude', \n                  'Venue', \n                  'Venue Latitude', \n                  'Venue Longitude', \n                  'Venue Category']\n    \n    return(nearby_venues)"
        }, 
        {
            "source": "Looking for nearby venues for the first 5 location points from the population dataset", 
            "cell_type": "markdown", 
            "metadata": {}
        }, 
        {
            "execution_count": 24, 
            "cell_type": "code", 
            "metadata": {}, 
            "outputs": [
                {
                    "output_type": "stream", 
                    "name": "stdout", 
                    "text": "Mar Vista\nBurbank\nBurbank\nBurbank\nBurbank\n"
                }
            ], 
            "source": "LAX_venues = getNearbyVenues(names=dataframe2016['Neighborhood'].head(),\n                                latitudes = dataframe2016['latitude'].head(),\n                                longitudes = dataframe2016['longitude'].head()\n                                  )"
        }, 
        {
            "execution_count": 27, 
            "cell_type": "code", 
            "metadata": {}, 
            "outputs": [
                {
                    "output_type": "stream", 
                    "name": "stdout", 
                    "text": "(58, 7)\n"
                }, 
                {
                    "execution_count": 27, 
                    "metadata": {}, 
                    "data": {
                        "text/html": "<div>\n<style scoped>\n    .dataframe tbody tr th:only-of-type {\n        vertical-align: middle;\n    }\n\n    .dataframe tbody tr th {\n        vertical-align: top;\n    }\n\n    .dataframe thead th {\n        text-align: right;\n    }\n</style>\n<table border=\"1\" class=\"dataframe\">\n  <thead>\n    <tr style=\"text-align: right;\">\n      <th></th>\n      <th>Neighborhood</th>\n      <th>Neighborhood Latitude</th>\n      <th>Neighborhood Longitude</th>\n      <th>Venue</th>\n      <th>Venue Latitude</th>\n      <th>Venue Longitude</th>\n      <th>Venue Category</th>\n    </tr>\n  </thead>\n  <tbody>\n    <tr>\n      <th>0</th>\n      <td>Mar Vista</td>\n      <td>34.016630</td>\n      <td>-118.437563</td>\n      <td>Ocean View Farms</td>\n      <td>34.013712</td>\n      <td>-118.440426</td>\n      <td>Garden</td>\n    </tr>\n    <tr>\n      <th>1</th>\n      <td>Mar Vista</td>\n      <td>34.016630</td>\n      <td>-118.437563</td>\n      <td>north venice little league</td>\n      <td>34.014600</td>\n      <td>-118.440083</td>\n      <td>Baseball Field</td>\n    </tr>\n    <tr>\n      <th>2</th>\n      <td>Mar Vista</td>\n      <td>34.016630</td>\n      <td>-118.437563</td>\n      <td>Mountain View Outlook</td>\n      <td>34.017705</td>\n      <td>-118.441549</td>\n      <td>Scenic Lookout</td>\n    </tr>\n    <tr>\n      <th>3</th>\n      <td>Mar Vista</td>\n      <td>34.016630</td>\n      <td>-118.437563</td>\n      <td>VENICE GARDENS</td>\n      <td>34.015355</td>\n      <td>-118.442468</td>\n      <td>Garden</td>\n    </tr>\n    <tr>\n      <th>4</th>\n      <td>Burbank</td>\n      <td>34.171425</td>\n      <td>-118.352775</td>\n      <td>Emerald Knights Comics and Games</td>\n      <td>34.172974</td>\n      <td>-118.354616</td>\n      <td>Toy / Game Store</td>\n    </tr>\n  </tbody>\n</table>\n</div>", 
                        "text/plain": "  Neighborhood  Neighborhood Latitude  Neighborhood Longitude  \\\n0    Mar Vista              34.016630             -118.437563   \n1    Mar Vista              34.016630             -118.437563   \n2    Mar Vista              34.016630             -118.437563   \n3    Mar Vista              34.016630             -118.437563   \n4      Burbank              34.171425             -118.352775   \n\n                              Venue  Venue Latitude  Venue Longitude  \\\n0                  Ocean View Farms       34.013712      -118.440426   \n1        north venice little league       34.014600      -118.440083   \n2             Mountain View Outlook       34.017705      -118.441549   \n3                    VENICE GARDENS       34.015355      -118.442468   \n4  Emerald Knights Comics and Games       34.172974      -118.354616   \n\n     Venue Category  \n0            Garden  \n1    Baseball Field  \n2    Scenic Lookout  \n3            Garden  \n4  Toy / Game Store  "
                    }, 
                    "output_type": "execute_result"
                }
            ], 
            "source": "print(LAX_venues.shape)\nLAX_venues.head()"
        }, 
        {
            "execution_count": null, 
            "cell_type": "code", 
            "metadata": {}, 
            "outputs": [], 
            "source": ""
        }
    ], 
    "metadata": {
        "kernelspec": {
            "display_name": "Python 3.6", 
            "name": "python3", 
            "language": "python"
        }, 
        "language_info": {
            "mimetype": "text/x-python", 
            "nbconvert_exporter": "python", 
            "version": "3.6.8", 
            "name": "python", 
            "file_extension": ".py", 
            "pygments_lexer": "ipython3", 
            "codemirror_mode": {
                "version": 3, 
                "name": "ipython"
            }
        }
    }, 
    "nbformat": 4
}